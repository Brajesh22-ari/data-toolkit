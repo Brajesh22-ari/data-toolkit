{
  "nbformat": 4,
  "nbformat_minor": 0,
  "metadata": {
    "colab": {
      "provenance": []
    },
    "kernelspec": {
      "name": "python3",
      "display_name": "Python 3"
    },
    "language_info": {
      "name": "python"
    }
  },
  "cells": [
    {
      "cell_type": "code",
      "execution_count": null,
      "metadata": {
        "id": "yVecsUpZfXcj"
      },
      "outputs": [],
      "source": [
        "1.What is NumPy, and why is it widely used in Python?\n",
        "ANS.NumPy (Numerical Python) is a powerful open-source library in Python primarily used for numerical computing. It provides support for large, multi-dimensional arrays and matrices, along with a collection of mathematical functions to operate on them efficiently.\n",
        "\n",
        "| Reason                              | Description                                                                                                              |\n",
        "| ----------------------------------- | ------------------------------------------------------------------------------------------------------------------------ |\n",
        "|  Efficient Array Operations       | Provides a powerful N-dimensional array object that is faster than lists.                                                |\n",
        "|  Performance                       | Internally written in C, making array computations extremely fast.                                                       |\n",
        "|  Rich Mathematical Functions      | Includes advanced mathematical, statistical, and linear algebra functions.                                               |\n",
        "|  Integration with Other Libraries | Used as the foundation for many libraries like **Pandas**, **SciPy**, **scikit-learn**, **TensorFlow**, and **PyTorch**. |\n",
        "|  Broadcasting                     | Allows operations on arrays of different shapes without writing loops.                                                   |\n",
        "|  Ideal for Scientific Computing   | Widely used in data analysis, machine learning, image processing, etc.                                                   |\n",
        "|  Memory Efficient                 | Consumes less memory than standard Python lists for large datasets.                                                      |\n"
      ]
    },
    {
      "cell_type": "code",
      "source": [
        "2. How does broadcasting work in NumPy?\n",
        "ANS. Broadcasting in NumPy is a powerful mechanism that allows arrays of different shapes to be used together in arithmetic operations without needing to manually reshape them.\n",
        "\n",
        "When performing operations on two arrays, NumPy compares their shapes element-wise from right to left and applies these rules:\n",
        "\n",
        "If dimensions are equal, they’re compatible.\n",
        "\n",
        "If one of the dimensions is 1, it is stretched to match the other.\n",
        "\n",
        "If they don’t match and none is 1, an error is raised."
      ],
      "metadata": {
        "id": "VEcaSDzyot-d"
      },
      "execution_count": null,
      "outputs": []
    },
    {
      "cell_type": "code",
      "source": [
        "3. What is a Pandas DataFrame?\n",
        "ANS.A Pandas DataFrame is a two-dimensional, labeled data structure in Python, similar to a table in a database, Excel spreadsheet, or SQL result set.\n",
        "\n",
        "It is one of the core data structures in the Pandas library, designed for data analysis and manipulation.\n",
        "A Pandas DataFrame is a flexible and powerful structure for working with structured data in Python. It is essential for data analysis, cleaning, transformation, and visualization tasks."
      ],
      "metadata": {
        "id": "juClUe33pHfE"
      },
      "execution_count": null,
      "outputs": []
    },
    {
      "cell_type": "code",
      "source": [
        "4.Explain the use of the groupby() method in Pandas.\n",
        "ANS.The groupby() method in Pandas is used to split a DataFrame into groups based on the values in one or more columns, and then apply functions (like sum, mean, count, etc.) to each group.\n",
        "\n",
        "It follows the Split-Apply-Combine strategy:\n",
        "\n",
        "Split the data into groups\n",
        "\n",
        "Apply a function to each group\n",
        "\n",
        "Combine the results into a new DataFrame\n",
        "\n",
        "| Operation           | Description                          |\n",
        "| ------------------- | ------------------------------------ |\n",
        "| `groupby().sum()`   | Sum of each group                    |\n",
        "| `groupby().mean()`  | Average of each group                |\n",
        "| `groupby().count()` | Number of non-null entries per group |\n",
        "| `groupby().max()`   | Max value per group                  |\n",
        "| `groupby().min()`   | Min value per group                  |\n",
        "| `groupby().agg()`   | Apply multiple functions             |\n"
      ],
      "metadata": {
        "id": "Srf-sujTpg7_"
      },
      "execution_count": null,
      "outputs": []
    },
    {
      "cell_type": "code",
      "source": [
        "5.Why is Seaborn preferred for statistical visualizations?\n",
        "ANS.Seaborn is preferred for statistical visualizations in Python because it provides high-level, easy-to-use functions for creating attractive and informative graphics, especially when working with pandas DataFrames and statistical data.\n",
        "Examples of Seaborn Plots\n",
        "1. Histogram + KDE\n",
        "import seaborn as sns\n",
        "sns.histplot(data=df, x='Salary', kde=True)\n"
      ],
      "metadata": {
        "id": "riuAz6U-qUhf"
      },
      "execution_count": null,
      "outputs": []
    },
    {
      "cell_type": "code",
      "source": [
        "6.What are the differences between NumPy arrays and Python lists?\n",
        "ANS.| Feature                       | NumPy Arrays                                          | Python Lists                                |\n",
        "| ----------------------------- | ---------------------------------------------------------- | ----------------------------------------------- |\n",
        "|  **Data Type**              | Homogeneous (all elements must be of the same type)        | Heterogeneous (can hold different types)        |\n",
        "|  **Performance**            | Much faster (written in C, uses vectorized operations)     | Slower due to interpreted loops                 |\n",
        "|  **Memory Usage**           | More memory-efficient                                      | Higher memory usage                             |\n",
        "|  **Mathematical Operations** | Supports element-wise operations directly (e.g., `a + b`)  | Must use loops or list comprehensions           |\n",
        "|  **Functionality**          | Supports broadcasting, slicing, matrix operations, etc.    | Basic data structure, lacks numerical functions |\n",
        "|  **Looping**                | Avoids loops using vectorized operations                   | Requires explicit `for` loops                   |\n",
        "|  **Scientific Use**         | Ideal for data analysis, machine learning, and simulations | Not suitable for heavy numerical computation    |\n",
        "| **Built-in Functions**     | Extensive (e.g., `np.sum`, `np.mean`, `np.dot`, etc.)      | Limited without importing extra libraries       |\n",
        "\n",
        "   example python list\n",
        "   a = [1, 2, 3]\n",
        "b = [4, 5, 6]\n",
        "c = [x + y for x, y in zip(a, b)]\n",
        "print(c)  # [5, 7, 9]\n",
        "NumPy Array:\n",
        "import numpy as np\n",
        "a = np.array([1, 2, 3])\n",
        "b = np.array([4, 5, 6])\n",
        "c = a + b\n",
        "print(c)  # [5 7 9]\n"
      ],
      "metadata": {
        "id": "fD0NarLsrE30"
      },
      "execution_count": null,
      "outputs": []
    },
    {
      "cell_type": "code",
      "source": [
        "7.What is a heatmap, and when should it be used?\n",
        "ANS.A heatmap is a data visualization technique that uses color gradients to represent the magnitude or intensity of values in a matrix-like structure (rows and columns). It's widely used in data analysis, especially for showing correlations, patterns, or relationships between variables.\n",
        "\n",
        "Use Case\tDescription\n",
        " Correlation Matrix\tVisualize relationships between numerical variables\n",
        " Large Data Grids\tShow values in a 2D matrix (e.g., confusion matrix, distance matrix)\n",
        " Categorical vs Numerical Data\tCompare numerical values across categories\n",
        " Missing Data Visualization\tIdentify where data is missing (NaN) in a dataset\n",
        " Genomic/Scientific Data\tDisplay intensity or expression levels in biology, chemistry, etc.\n"
      ],
      "metadata": {
        "id": "Oo55ng87r5Bv"
      },
      "execution_count": null,
      "outputs": []
    },
    {
      "cell_type": "code",
      "source": [
        "8.What does the term “vectorized operation” mean in NumPy?\n",
        "ANS .The term “vectorized operation” in NumPy refers to the process of performing operations on entire arrays (vectors, matrices, etc.) without using explicit loops in Python.\n",
        "\n",
        "Instead of looping through elements one by one, NumPy applies operations at the array level, which is faster and more efficient, thanks to its underlying C implementation.\n",
        "\n",
        " Examples of Vectorized Operations\n",
        "a = np.array([1, 2, 3])\n",
        "b = np.array([4, 5, 6])\n",
        "\n",
        "# Element-wise addition\n",
        "print(a + b)  # [5 7 9]\n",
        "\n",
        "# Element-wise comparison\n",
        "print(a > 2)  # [False False  True]\n",
        "# Element-wise square\n",
        "print(a ** 2)  # [1 4 9]"
      ],
      "metadata": {
        "id": "xc_7HC-ss8lc"
      },
      "execution_count": null,
      "outputs": []
    },
    {
      "cell_type": "code",
      "source": [
        "9.How does Matplotlib differ from Plotly?\n",
        "ANS. | Feature/Aspect       | **Matplotlib**                                 | **Plotly**                                               |\n",
        "| -------------------- | ---------------------------------------------- | -------------------------------------------------------- |\n",
        "| Type**          | Static plotting library                        | Interactive plotting library                             |\n",
        "| Foundation**    | Base library for many others (like Seaborn)    | Built on D3.js and WebGL for browser-based interactivity |\n",
        "|Best For**      | Quick, static, publication-quality plots       | Interactive dashboards and web apps                      |\n",
        "| Interactivity** | Very limited (zoom/pan in some GUIs)           | Fully interactive: hover, zoom, tooltips, click events   |\n",
        "|Output Format** | Images (PNG, PDF, SVG)                         | HTML, JSON, or embedded web components                   |\n",
        "| 3D Plots**      | Basic, less intuitive                          | Fully interactive and easier 3D plots                    |\n",
        "| *Customization** | Highly customizable with low-level control     | Also customizable, but more declarative                  |\n",
        "|Ease of Use**   | More code-heavy for complex visuals            | Simpler for creating complex visualizations quickly      |\n",
        "| Integration**   | Widely used with Jupyter, scientific computing | Great for dashboards (Dash), web, and Jupyter            |\n",
        "|*Licensing**     | Open-source (BSD)                              | Open-source core (MIT), advanced features in Plotly Pro  |\n"
      ],
      "metadata": {
        "id": "c0-7R2Vjvjf0"
      },
      "execution_count": null,
      "outputs": []
    },
    {
      "cell_type": "code",
      "source": [
        "10. What is the significance of hierarchical indexing in Pandas?\n",
        "ANS. ierarchical indexing (also known as MultiIndexing) in Pandas allows you to have multiple levels of indexes (or labels) on a single axis (rows or columns) of a DataFrame or Series.\n",
        "This enables you to organize, group, and analyze complex datasets more efficiently.\n",
        "| Feature                            | Description                                                                            |\n",
        "| ---------------------------------- | -------------------------------------------------------------------------------------- |\n",
        "| Multi-level Grouping**        | Enables grouping and sub-grouping (like country → state → city)                        |\n",
        "| Organizes Complex Data**      | Makes it easier to work with multi-dimensional or panel data                           |\n",
        "| Efficient Data Selection**    | Allows flexible slicing, filtering, and selection based on multiple levels             |\n",
        "| Improved Data Aggregation**   | Used with `groupby()` results for grouped summaries with multiple keys                 |\n",
        "| Foundation for Pivot Tables** | Essential for reshaping and unstacking data with `pivot_table`, `stack()`, `unstack()` |"
      ],
      "metadata": {
        "id": "I7dl6JILwCqt"
      },
      "execution_count": null,
      "outputs": []
    },
    {
      "cell_type": "code",
      "source": [
        "11.What is the role of Seaborn’s pairplot() function?\n",
        "ANS.The pairplot() function in Seaborn is a powerful tool for visualizing relationships between multiple variables in a dataset.\n",
        "It creates a grid of scatter plots for every pair of numerical features.\n",
        "\n",
        "On the diagonal, it usually displays histograms or KDE plots to show the distribution of each variable.\n",
        "\n",
        "It helps in performing exploratory data analysis (EDA) by revealing:\n",
        "\n",
        "Correlations\n",
        "\n",
        "Clusters\n",
        "\n",
        "Outliers\n",
        "\n",
        "Distributions"
      ],
      "metadata": {
        "id": "MCV9skTawlu3"
      },
      "execution_count": null,
      "outputs": []
    },
    {
      "cell_type": "code",
      "source": [
        "12.What is the purpose of the describe() function in Pandas?\n",
        "ANS.The describe() function in Pandas is used to generate summary statistics of a DataFrame or Series. It provides a quick overview of the central tendency, dispersion, and shape of a dataset’s distribution.\n",
        "\n",
        "To summarize and understand numerical (and optionally categorical) data quickly by providing key statistical metrics.\n",
        "\n",
        "import pandas as pd\n",
        "\n",
        "df = pd.DataFrame({\n",
        "    'Age': [25, 30, 35, 40, 45],\n",
        "    'Salary': [50000, 60000, 70000, 80000, 90000]\n",
        "})\n",
        "\n",
        "print(df.describe())\n",
        "\n"
      ],
      "metadata": {
        "id": "tX_UGyevyY7S"
      },
      "execution_count": null,
      "outputs": []
    },
    {
      "cell_type": "code",
      "source": [
        "13.Why is handling missing data important in Pandas?\n",
        "ANS. Handling missing data is critically important in Pandas (and data analysis in general) because incomplete or inconsistent data can lead to incorrect results, biased models, and misleading insights.\n",
        "| Reason                              | Explanation                                                               |\n",
        "| ----------------------------------- | ------------------------------------------------------------------------- |\n",
        "|Maintains Data Quality**       | Missing data reduces the reliability of analysis, reporting, and modeling |\n",
        "|Ensures Accurate Statistics**  | Summary stats like mean, median, std can be distorted by NaNs             |\n",
        "|Required for ML Algorithms**   | Most machine learning models **do not accept NaNs** and will raise errors |\n",
        "|Avoids Skewed Visualizations** | Plots and charts can misrepresent data if missing values are not handled  |\n",
        "|Improves Data Integrity**      | Cleaning missing data makes your dataset consistent and usable            |\n"
      ],
      "metadata": {
        "id": "YUXAUh9Ayt4B"
      },
      "execution_count": null,
      "outputs": []
    },
    {
      "cell_type": "code",
      "source": [
        "14.What are the benefits of using Plotly for data visualization?\n",
        "ANS. Plotly is a powerful, modern data visualization library in Python that excels in creating interactive, publication-quality plots. It’s widely used in data science, analytics, and web-based dashboards.\n",
        "| Benefit                                  | Description                                                                              |\n",
        "| ---------------------------------------- | ---------------------------------------------------------------------------------------- |\n",
        "|Interactivity**                     | Supports zoom, pan, hover tooltips, and click events **out of the box**                  |\n",
        "|Wide Range of Chart Types**         | Supports line, bar, scatter, pie, heatmaps, 3D plots, choropleths, maps, etc.            |\n",
        "|Web-Based Output**                 | Plots render in HTML and are easy to embed in web apps or Jupyter notebooks              |\n",
        "|Dash Integration**                  | Seamlessly integrates with **Dash** for building full-fledged **interactive dashboards** |\n",
        "|Responsive Design**                 | Plots automatically resize and adapt to screen size (mobile-friendly)                    |\n",
        "|*Highly Customizable**               | Detailed control over layout, annotations, colors, and interactivity                     |\n",
        "|*Export Options**                    | Can save plots as HTML, PNG, SVG, PDF, or static image                                   |\n",
        "|No JavaScript Required**            | Python developers can create advanced visualizations **without JS coding**               |\n",
        "|Built-in Aggregation and Faceting** | Easily group data, add facets, and filter visuals for deeper insights                    |\n",
        "|*Works with Pandas & NumPy**         | Compatible with pandas DataFrames and NumPy arrays                                       |\n",
        "\n"
      ],
      "metadata": {
        "id": "oEd6YDO21r5C"
      },
      "execution_count": null,
      "outputs": []
    },
    {
      "cell_type": "code",
      "source": [
        "15. How does NumPy handle multidimensional arrays?\n",
        "ANS.NumPy handles multidimensional arrays using its powerful ndarray (N-dimensional array) object, which allows you to store and operate on data in 2D, 3D, or even higher dimensions efficiently.\n",
        "\n",
        "NumPy handles multidimensional arrays using the ndarray object, allowing fast, flexible operations across any number of dimensions — ideal for scientific computing, image processing, machine learning, and more.\n",
        "A multidimensional array in NumPy is simply an array with more than one axis (dimension). For example:\n",
        "\n",
        "1D array → vector\n",
        "\n",
        "2D array → matrix (rows and columns)\n",
        "\n",
        "3D+ array → tensor (e.g., image stacks, time-series of matrices)\n",
        "\n"
      ],
      "metadata": {
        "id": "9G56oH7B2QF4"
      },
      "execution_count": null,
      "outputs": []
    },
    {
      "cell_type": "code",
      "source": [
        "16.What is the role of Bokeh in data visualization?\n",
        "ANS. Bokeh is a powerful Python library used for creating interactive, browser-based visualizations. Its main goal is to make dynamic and engaging visual analytics that are easy to share as web apps or embedded dashboards\n",
        "| Purpose                           | Description                                                                |\n",
        "| --------------------------------- | -------------------------------------------------------------------------- |\n",
        "| *Interactive Plots**         | Provides zooming, panning, tooltips, sliders, and selection tools          |\n",
        "|Web Integration**            | Outputs directly to **HTML**, JavaScript, or Jupyter Notebooks             |\n",
        "|Dashboard Building**         | Can create interactive dashboards with **layouts, widgets, and callbacks |\n",
        "|Streaming & Real-Time Data | Supports live-updating plots and data streams                              |\n",
        "|Server Applications        | Bokeh apps can run on a **Bokeh server** to enable Python callbacks        |\n"
      ],
      "metadata": {
        "id": "InMVDSLT2xFX"
      },
      "execution_count": null,
      "outputs": []
    },
    {
      "cell_type": "code",
      "source": [
        "17.Explain the difference between apply() and map() in Pandas.\n",
        "ANS. | Feature           | `map()`                            | `apply()`                                  |\n",
        "| ----------------- | ---------------------------------- | ------------------------------------------ |\n",
        "|  Works on       | Series (1D) only                   | Series or DataFrame (1D or 2D)             |\n",
        "|  Scope          | Element-wise                       | Element-wise **or** row/column-wise        |\n",
        "|  Output         | Series                             | Can return Series, scalar, DataFrame, etc. |\n",
        "|  Function types | Accepts dict, Series, or function  | Accepts only function                      |\n",
        "|  Use Case       | Simple element-wise transformation | Complex row/column-wise computations       |\n",
        "    example....\n",
        "Using map() – Element-wise transformation in a Series\n",
        "\n",
        " import pandas as pd\n",
        "\n",
        "s = pd.Series([1, 2, 3, 4])\n",
        "\n",
        "# Square each element\n",
        "s.map(lambda x: x**2)\n",
        "Using apply() on a Series – More flexible than map()\n",
        "# Add 10 to each element\n",
        "s.apply(lambda x: x + 10)\n"
      ],
      "metadata": {
        "id": "6CH3yDeQ3MvP"
      },
      "execution_count": null,
      "outputs": []
    },
    {
      "cell_type": "code",
      "source": [
        "18.What are some advanced features of NumPy?\n",
        "ANS. NumPy offers a range of advanced features that make it a powerful tool for high-performance scientific computing and data analysis. Below are some of the most important and widely used advanced capabilities:\n",
        "\n",
        "| Feature           | Use Case                                      |\n",
        "| ----------------- | --------------------------------------------- |\n",
        "| Broadcasting      | Operations between arrays of different shapes |\n",
        "| Structured Arrays | Heterogeneous data like rows in a table       |\n",
        "| Linear Algebra    | Matrix math, decomposition                    |\n",
        "| Random Sampling   | Simulations and testing                       |\n",
        "| Memory Views      | Efficient slicing without copying             |\n",
        "1. Broadcasting\n",
        "import numpy as np\n",
        "a = np.array([[1], [2], [3]])\n",
        "b = np.array([10, 20, 30])\n",
        "a + b  # Automatically expands dimensions to match\n",
        "\n",
        "2.Vectorized Operations\n",
        "a = np.array([1, 2, 3])\n",
        "b = np.array([4, 5, 6])\n",
        "result = a * b  # Element-wise multiplication\n",
        "3. Memory Views / Slicing Without Copying\n",
        "\n",
        "a = np.array([1, 2, 3, 4])\n",
        "b = a[1:3]\n",
        "b[0] = 99\n",
        "# a is now [1, 99, 3, 4]\n"
      ],
      "metadata": {
        "id": "SU_rrEx03kQN"
      },
      "execution_count": null,
      "outputs": []
    },
    {
      "cell_type": "code",
      "source": [
        "19.How does Pandas simplify time series analysis?\n",
        "ANS. Date Parsing and Indexing\n",
        "Pandas can automatically parse date strings and convert them into datetime objects using pd.to_datetime().\n",
        "\n",
        "You can set a datetime column as the index, allowing intuitive time-based indexing and slicing.\n",
        "df['date'] = pd.to_datetime(df['date'])\n",
        "df.set_index('date', inplace=True)\n",
        " 2. Time-Based Slicing\n",
        "Once the index is set to a datetime, you can easily filter data by year, month, day, etc.\n",
        "df['2023']            # All data from 2023\n",
        "df['2023-07']         # All data from July 2023\n",
        "3. Resampling\n",
        "The resample() method allows you to change the frequency of time series data (e.g., daily to monthly) and apply aggregation functions like mean, sum, etc.\n",
        "df.resample('M').mean()  # Monthly average\n",
        "df.resample('W').sum()   # Weekly sum\n",
        "4.Lag and Differencing\n",
        "shift() lets you create lag features for modeling.\n",
        "\n",
        "diff() helps remove trends or seasonality to make data stationary\n",
        "df['lag_1'] = df['value'].shift(1)\n",
        "df['diff'] = df['value'].diff()\n",
        "\n"
      ],
      "metadata": {
        "id": "n_jIA1eQ6GrF"
      },
      "execution_count": null,
      "outputs": []
    },
    {
      "cell_type": "code",
      "source": [
        "20.What is the role of a pivot table in Pandas?\n",
        "ANS.Role of a Pivot Table in Pandas:\n",
        " 1. Data Summarization\n",
        "It helps you aggregate data using functions like mean(), sum(), count(), etc., across one or more categories.\n",
        "pd.pivot_table(data, values='sales', index='region', columns='product', aggfunc='sum')\n",
        "2. Multi-Dimensional Grouping\n",
        "Pivot tables allow you to group data by rows (index) and columns, creating a two-dimensional summary.\n",
        "\n",
        "index → rows (e.g., region)\n",
        "\n",
        "columns → columns (e.g., year)\n",
        "\n",
        "values → values to aggregate (e.g., revenue)\n",
        "\n",
        "3. Flexible Aggregation Functions\n",
        "You can use any aggregation function:\n",
        "\n",
        "'mean', 'sum', 'count', 'min', 'max', etc.\n",
        "\n",
        "Or even custom functions using aggfunc.\n",
        "4. Handling Missing Data\n",
        "You can fill missing values using the fill_value parameter:\n",
        "pd.pivot_table(df, ..., fill_value=0)\n",
        "\n",
        "  Example:\n",
        "  import pandas as pd\n",
        "\n",
        "data = {\n",
        "    'region': ['East', 'West', 'East', 'West'],\n",
        "    'product': ['A', 'A', 'B', 'B'],\n",
        "    'sales': [100, 200, 150, 250]\n",
        "}\n",
        "\n",
        "df = pd.DataFrame(data)\n",
        "\n",
        "pivot = pd.pivot_table(df, values='sales', index='region', columns='product', aggfunc='sum')\n",
        "\n"
      ],
      "metadata": {
        "id": "Owio3Jkh9oYo"
      },
      "execution_count": null,
      "outputs": []
    },
    {
      "cell_type": "code",
      "source": [
        "21.Why is NumPy’s array slicing faster than Python’s list slicing?\n",
        "ANS. 1. Homogeneous Data Type\n",
        "NumPy arrays store data in a contiguous block of memory with fixed, homogeneous data types (e.g., all int32 or float64).\n",
        "\n",
        "Python lists are heterogeneous, meaning each element is a separate Python object with its own memory reference.\n",
        "\n",
        " Result: NumPy accesses memory more efficiently, enabling faster computation and slicing.\n",
        " 2. Slicing Creates Views, Not Copies\n",
        "NumPy slicing returns a view (not a copy) of the original array whenever possible.\n",
        "\n",
        "Changes to the slice reflect in the original array.\n",
        "\n",
        "Python list slicing creates a new list (a copy), which takes extra time and memory.\n",
        "import numpy as np\n",
        "a = np.array([1, 2, 3, 4])\n",
        "b = a[1:3]   # view, not a copy\n",
        "3. Optimized C Backend\n",
        "NumPy is implemented in C and uses vectorized operations under the hood.\n",
        "\n",
        "Python lists are handled by the interpreter, and operations are performed element by element (loop-based).\n",
        "\n",
        " Result: NumPy operations, including slicing, avoid Python-level loops and overhead.\n",
        " 4. Lower Memory Overhead\n",
        "NumPy arrays store just the raw data and metadata (like shape, dtype, strides).\n",
        "\n",
        "Python lists store full Python objects and pointers, which adds significant overhead."
      ],
      "metadata": {
        "id": "OpHCR1l8-nVm"
      },
      "execution_count": null,
      "outputs": []
    },
    {
      "cell_type": "code",
      "source": [
        "22.What are some common use cases for Seaborn?\n",
        "ANS. Seaborn is a powerful Python data visualization library built on top of Matplotlib. It provides a high-level interface for creating attractive and informative statistical graphics.\n",
        "1. Exploratory Data Analysis (EDA)\n",
        "Quickly understand relationships, distributions, and patterns in the dataset.\n",
        "\n",
        "Commonly used in the early stages of data science and machine learning projects\n",
        "sns.pairplot(df)\n",
        "sns.heatmap(df.corr())\n",
        "2. Visualizing Distributions\n",
        "Understand the spread, skewness, and modality of a single variable.\n",
        "sns.histplot(df['age'])\n",
        "sns.kdeplot(df['salary'])\n",
        "3. Comparing Categories\n",
        "Compare numerical data across categories using:\n",
        "\n",
        "Bar plots, box plots, violin plots, strip plots.\n",
        "sns.boxplot(x='gender', y='income', data=df)\n",
        "sns.violinplot(x='region', y='sales', data=df)\n",
        "4. Analyzing Relationships Between Variables\n",
        "Visualize the correlation or trends between two variables.\n",
        "sns.scatterplot(x='age', y='salary', data=df)\n",
        "sns.regplot(x='experience', y='income', data=df)  # adds a regression line\n",
        "\n"
      ],
      "metadata": {
        "id": "O-iK2Exp_cPE"
      },
      "execution_count": null,
      "outputs": []
    },
    {
      "cell_type": "code",
      "source": [
        "                                                    {Practical}"
      ],
      "metadata": {
        "id": "Sw2n6hMUAJkm"
      },
      "execution_count": null,
      "outputs": []
    },
    {
      "cell_type": "code",
      "source": [
        "1. How do you create a 2D NumPy array and calculate the sum of each row?\n",
        "ANS. Step-by-Step Exa\n",
        "import numpy as np\n",
        "\n",
        "# Step 1: Create a 2D NumPy array\n",
        "array_2d = np.array([\n",
        "    [1, 2, 3],\n",
        "    [4, 5, 6],\n",
        "    [7, 8, 9]\n",
        "])\n",
        "\n",
        "# Step 2: Calculate the sum of each row\n",
        "row_sums = np.sum(array_2d, axis=1)\n",
        "\n",
        "# Output the result\n",
        "print(\"2D Array:\")\n",
        "print(array_2d)\n",
        "print(\"Sum of each row:\", row_sums)\n",
        " Explanation:\n",
        "np.array([...]): Creates a 2D array.\n",
        "\n",
        "np.sum(array_2d, axis=1):\n",
        "\n",
        "axis=1 means sum across columns, so you get the row-wise sum.\n",
        "\n",
        " Output:\n",
        "2D Array:\n",
        "[[1 2 3]\n",
        " [4 5 6]\n",
        " [7 8 9]]\n",
        "Sum of each row: [ 6 15 24]"
      ],
      "metadata": {
        "id": "WPISu5SpAV5b"
      },
      "execution_count": null,
      "outputs": []
    },
    {
      "cell_type": "code",
      "source": [
        "2.Write a Pandas script to find the mean of a specific column in a DataFrame.\n",
        "ANS.Example Script\n",
        "import pandas as pd\n",
        "\n",
        "# Sample data\n",
        "data = {\n",
        "    'name': ['Alice', 'Bob', 'Charlie', 'David'],\n",
        "    'age': [25, 30, 35, 40],\n",
        "    'salary': [50000, 60000, 70000, 80000]\n",
        "}\n",
        "\n",
        "# Create DataFrame\n",
        "df = pd.DataFrame(data)\n",
        "\n",
        "# Calculate the mean of the 'salary' column\n",
        "mean_salary = df['salary'].mean()\n",
        "\n",
        "# Output the result\n",
        "print(\"Mean salary:\", mean_salary)\n",
        "df['salary']: Accesses the specific column.\n",
        "\n",
        ".mean(): Computes the average of the values in that column."
      ],
      "metadata": {
        "id": "8IGrAsWlBJ7u"
      },
      "execution_count": null,
      "outputs": []
    },
    {
      "cell_type": "code",
      "source": [
        "3. Create a scatter plot using Matplotlib.\n",
        "ANS.import matplotlib.pyplot as plt\n",
        "\n",
        "# Sample data\n",
        "x = [10, 20, 30, 40, 50]\n",
        "y = [15, 25, 35, 30, 50]\n",
        "\n",
        "# Create scatter plot\n",
        "plt.scatter(x, y, color='blue', marker='o', label='Data Points')\n",
        "\n",
        "# Add labels and title\n",
        "plt.xlabel('X Axis')\n",
        "plt.ylabel('Y Axis')\n",
        "plt.title('Simple Scatter Plot')\n",
        "plt.legend()\n",
        "\n",
        "# Show plot\n",
        "plt.show()\n"
      ],
      "metadata": {
        "id": "6WQaCJ21CEUi"
      },
      "execution_count": null,
      "outputs": []
    },
    {
      "cell_type": "code",
      "source": [
        "4. How do you calculate the correlation matrix using Seaborn and visualize it with a heatmap?\n",
        "ANS. To calculate the correlation matrix and visualize it with a heatmap using Seaborn, follow these steps:\n",
        "\n",
        "import pandas as pd\n",
        "import seaborn as sns\n",
        "import matplotlib.pyplot as plt\n",
        "\n",
        "# Sample DataFrame\n",
        "data = {\n",
        "    'age': [25, 30, 45, 35, 40],\n",
        "    'income': [50000, 60000, 80000, 75000, 90000],\n",
        "    'expenses': [20000, 25000, 30000, 28000, 35000]\n",
        "}\n",
        "\n",
        "df = pd.DataFrame(data)\n",
        "\n",
        "# Step 1: Calculate correlation matrix\n",
        "correlation_matrix = df.corr()\n",
        "\n",
        "# Step 2: Plot the heatmap\n",
        "sns.heatmap(correlation_matrix, annot=True, cmap='coolwarm', fmt=\".2f\")\n",
        "\n",
        "# Step 3: Display the plot\n",
        "plt.title(\"Correlation Matrix Heatmap\")\n",
        "plt.show()\n",
        "df.corr() – Computes the correlation matrix (Pearson correlation by default).\n",
        "\n",
        "sns.heatmap() – Creates a heatmap:\n",
        "\n",
        "annot=True – shows values inside boxes.\n",
        "\n",
        "cmap='coolwarm' – sets the color scale.\n",
        "\n",
        "fmt=\".2f\" – formats numbers to 2 decimal places.\n",
        "\n",
        "plt.show() – Displays the plot."
      ],
      "metadata": {
        "id": "lEsbOWO6Cmk9"
      },
      "execution_count": null,
      "outputs": []
    },
    {
      "cell_type": "code",
      "source": [
        "5.Generate a bar plot using Plotly.\n",
        "ANS. import plotly.express as px\n",
        "\n",
        "# Sample data\n",
        "data = {\n",
        "    'Category': ['A', 'B', 'C', 'D'],\n",
        "    'Values': [10, 25, 15, 30]\n",
        "}\n",
        "\n",
        "# Create DataFrame\n",
        "import pandas as pd\n",
        "df = pd.DataFrame(data)\n",
        "\n",
        "# Create bar plot\n",
        "fig = px.bar(df, x='Category', y='Values', title='Bar Plot Example')\n",
        "\n",
        "# Show plot\n",
        "fig.show()\n",
        "px.bar() creates a bar chart.\n",
        "\n",
        "x='Category', y='Values' define the axes.\n",
        "\n",
        "title adds a title to the chart.\n",
        "\n",
        "fig.show() opens an interactive chart in your browser or notebook."
      ],
      "metadata": {
        "id": "TUnwBRCBDSbK"
      },
      "execution_count": null,
      "outputs": []
    },
    {
      "cell_type": "code",
      "source": [
        "6. Create a DataFrame and add a new column based on an existing column.\n",
        "ANS.import pandas as pd\n",
        "\n",
        "# Step 1: Create a sample DataFrame\n",
        "data = {\n",
        "    'name': ['Alice', 'Bob', 'Charlie'],\n",
        "    'score': [85, 92, 78]\n",
        "}\n",
        "\n",
        "df = pd.DataFrame(data)\n",
        "\n",
        "# Step 2: Add a new column based on 'score'\n",
        "# Example: Grade based on score\n",
        "df['grade'] = df['score'].apply(\n",
        "    lambda x: 'A' if x >= 90 else 'B' if x >= 80 else 'C'\n",
        ")\n",
        "\n",
        "# Display the DataFrame\n",
        "print(df)\n",
        "Output:\n",
        "     name  score grade\n",
        "0   Alice     85     B\n",
        "1     Bob     92     A\n",
        "2 Charlie     78     C"
      ],
      "metadata": {
        "id": "5hxdb9NjDuGu"
      },
      "execution_count": null,
      "outputs": []
    },
    {
      "cell_type": "code",
      "source": [
        "7.Write a program to perform element-wise multiplication of two NumPy arrays.\n",
        "ANS.import numpy as np\n",
        "\n",
        "# Step 1: Create two NumPy arrays\n",
        "a = np.array([1, 2, 3, 4])\n",
        "b = np.array([5, 6, 7, 8])\n",
        "\n",
        "# Step 2: Element-wise multiplication\n",
        "result = a * b\n",
        "\n",
        "# Step 3: Display the result\n",
        "print(\"Array A:\", a)\n",
        "print(\"Array B:\", b)\n",
        "print(\"Element-wise multiplication:\", result)\n",
        "Output:\n",
        "Array A: [1 2 3 4]\n",
        "Array B: [5 6 7 8]\n",
        "Element-wise multiplication: [ 5 12 21 32]\n",
        "a * b performs element-wise multiplication (i.e., a[i] * b[i]) for all elements.\n",
        "\n",
        "Both arrays must be of the same shape or broadcastable shapes."
      ],
      "metadata": {
        "id": "vSr_iqxqEIhx"
      },
      "execution_count": null,
      "outputs": []
    },
    {
      "cell_type": "code",
      "source": [
        "8.Create a line plot with multiple lines using Matplotlib.\n",
        "ANS. import matplotlib.pyplot as plt\n",
        "\n",
        "# Sample data\n",
        "x = [1, 2, 3, 4, 5]\n",
        "y1 = [10, 15, 20, 25, 30]\n",
        "y2 = [5, 10, 15, 20, 25]\n",
        "y3 = [2, 4, 6, 8, 10]\n",
        "\n",
        "# Create the line plot with multiple lines\n",
        "plt.plot(x, y1, label='Line 1', color='blue', linestyle='-', marker='o')\n",
        "plt.plot(x, y2, label='Line 2', color='green', linestyle='--', marker='s')\n",
        "plt.plot(x, y3, label='Line 3', color='red', linestyle='-.', marker='^')\n",
        "\n",
        "# Add titles and labels\n",
        "plt.title('Multiple Line Plot Example')\n",
        "plt.xlabel('X-axis')\n",
        "plt.ylabel('Y-axis')\n",
        "\n",
        "# Add legend\n",
        "plt.legend()\n",
        "\n",
        "# Show the plot\n",
        "plt.grid(True)\n",
        "plt.show()\n",
        "plt.plot() is called multiple times to draw different lines.\n",
        "\n",
        "label, color, linestyle, and marker customize each line.\n",
        "\n",
        "plt.legend() adds a legend to identify each line.\n",
        "\n",
        "plt.grid(True) adds grid lines for better readability."
      ],
      "metadata": {
        "id": "KW7qv_1dExZi"
      },
      "execution_count": null,
      "outputs": []
    },
    {
      "cell_type": "code",
      "source": [
        "9.Generate a Pandas DataFrame and filter rows where a column value is greater than a threshold.\n",
        "ANS. import pandas as pd\n",
        "\n",
        "# Step 1: Create a sample DataFrame\n",
        "data = {\n",
        "    'name': ['Alice', 'Bob', 'Charlie', 'David'],\n",
        "    'score': [85, 72, 90, 60]\n",
        "}\n",
        "\n",
        "df = pd.DataFrame(data)\n",
        "\n",
        "# Step 2: Filter rows where 'score' > 75\n",
        "filtered_df = df[df['score'] > 75]\n",
        "\n",
        "# Step 3: Display the result\n",
        "print(\"Original DataFrame:\\n\", df)\n",
        "print(\"\\nFiltered DataFrame (score > 75):\\n\", filtered_df)\n",
        "output:Original DataFrame:\n",
        "      name  score\n",
        "0   Alice     85\n",
        "1     Bob     72\n",
        "2 Charlie     90\n",
        "3   David     60\n",
        "\n",
        "Filtered DataFrame (score > 75):\n",
        "      name  score\n",
        "0   Alice     85\n",
        "2 Charlie     90\n"
      ],
      "metadata": {
        "id": "X_jPwNp2FRy4"
      },
      "execution_count": null,
      "outputs": []
    },
    {
      "cell_type": "code",
      "source": [
        "10.Create a histogram using Seaborn to visualize a distribution.\n",
        "ANS. import seaborn as sns\n",
        "import matplotlib.pyplot as plt\n",
        "import pandas as pd\n",
        "\n",
        "# Sample data\n",
        "data = {\n",
        "    'age': [22, 25, 27, 30, 32, 35, 36, 38, 40, 42, 45, 48, 50, 55, 60]\n",
        "}\n",
        "\n",
        "# Create a DataFrame\n",
        "df = pd.DataFrame(data)\n",
        "\n",
        "# Create histogram\n",
        "sns.histplot(df['age'], bins=10, kde=True, color='skyblue')\n",
        "\n",
        "# Add labels and title\n",
        "plt.title('Age Distribution')\n",
        "plt.xlabel('Age')\n",
        "plt.ylabel('Frequency')\n",
        "\n",
        "# Show the plot\n",
        "plt.show()\n"
      ],
      "metadata": {
        "id": "kEm8ptDPFyAk"
      },
      "execution_count": null,
      "outputs": []
    },
    {
      "cell_type": "code",
      "source": [
        "11. Perform matrix multiplication using NumPy.\n",
        "ANS.import numpy as np\n",
        "\n",
        "# Step 1: Define two matrices\n",
        "A = np.array([[1, 2],\n",
        "              [3, 4]])\n",
        "\n",
        "B = np.array([[5, 6],\n",
        "              [7, 8]])\n",
        "\n",
        "# Step 2: Perform matrix multiplication\n",
        "result = np.matmul(A, B)  # or use A @ B\n",
        "\n",
        "# Step 3: Display the result\n",
        "print(\"Matrix A:\\n\", A)\n",
        "print(\"Matrix B:\\n\", B)\n",
        "print(\"Matrix Multiplication Result:\\n\", result)\n",
        "Matrix A:\n",
        " [[1 2]\n",
        "  [3 4]]\n",
        "Matrix B:\n",
        " [[5 6]\n",
        "  [7 8]]\n",
        "Matrix Multiplication Result:\n",
        " [[19 22]\n",
        "  [43 50]]\n",
        "np.matmul(A, B) or A @ B performs matrix multiplication (not element-wise).\n",
        "\n",
        "Shapes must align: if A is of shape (m, n), then B must be of shape (n, p)."
      ],
      "metadata": {
        "id": "penM15-SGfDa"
      },
      "execution_count": null,
      "outputs": []
    },
    {
      "cell_type": "code",
      "source": [
        "12. Use Pandas to load a CSV file and display its first 5 rows.\n",
        "ANS.import pandas as pd\n",
        "\n",
        "# Step 1: Load the CSV file\n",
        "df = pd.read_csv('your_file.csv')  # Replace 'your_file.csv' with the path to your CSV file\n",
        "\n",
        "# Step 2: Display the first 5 rows\n",
        "print(df.head())\n",
        "pd.read_csv() loads the CSV into a DataFrame.\n",
        "\n",
        "df.head() shows the first 5 rows by default."
      ],
      "metadata": {
        "id": "JWMLSb6NG37f"
      },
      "execution_count": null,
      "outputs": []
    },
    {
      "cell_type": "code",
      "source": [
        "13.Create a 3D scatter plot using Plotly.\n",
        "ANS.import plotly.express as px\n",
        "import pandas as pd\n",
        "\n",
        "# Sample data\n",
        "data = {\n",
        "    'x': [1, 2, 3, 4, 5],\n",
        "    'y': [10, 15, 13, 17, 20],\n",
        "    'z': [5, 8, 6, 9, 12],\n",
        "    'label': ['A', 'B', 'C', 'D', 'E']\n",
        "}\n",
        "\n",
        "df = pd.DataFrame(data)\n",
        "\n",
        "# Create 3D scatter plot\n",
        "fig = px.scatter_3d(df, x='x', y='y', z='z', text='label',\n",
        "                    color='label', title='3D Scatter Plot Example')\n",
        "\n",
        "# Show the plot\n",
        "fig.show()\n",
        "px.scatter_3d() creates a 3D scatter plot.\n",
        "\n",
        "x, y, z: Coordinates for each point.\n",
        "\n",
        "color='label': Differentiates points by color.\n",
        "\n",
        "text='label': Shows text labels on hover.\n",
        "\n",
        "fig.show(): Renders the interactive 3D plot.\n",
        "\n"
      ],
      "metadata": {
        "id": "blrSB3taHOGX"
      },
      "execution_count": null,
      "outputs": []
    }
  ]
}